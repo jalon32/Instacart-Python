{
 "cells": [
  {
   "cell_type": "code",
   "execution_count": null,
   "id": "940f05f8",
   "metadata": {},
   "outputs": [],
   "source": [
    "# The libraries are already installed in my lapto\n",
    "#so this is just the way how to install them as comments\n",
    "\n",
    "\n",
    "#conda install numpy\n",
    "#conda install pandas\n"
   ]
  },
  {
   "cell_type": "markdown",
   "id": "32cf5ba1",
   "metadata": {},
   "source": [
    "# 01.importing libraries\n"
   ]
  },
  {
   "cell_type": "code",
   "execution_count": 15,
   "id": "0891d499",
   "metadata": {},
   "outputs": [],
   "source": [
    "\n",
    "import pandas as pd  # imporating pandas as pd\n",
    "import numpy as np   # importing numpy as np\n",
    "import os            # importing os libraries"
   ]
  },
  {
   "cell_type": "markdown",
   "id": "d22efba5",
   "metadata": {},
   "source": [
    "# 02.Working with Python data types"
   ]
  },
  {
   "cell_type": "code",
   "execution_count": 5,
   "id": "e41fbe6f",
   "metadata": {},
   "outputs": [
    {
     "data": {
      "text/plain": [
       "100"
      ]
     },
     "execution_count": 5,
     "metadata": {},
     "output_type": "execute_result"
    }
   ],
   "source": [
    "a=1+99 \n",
    "a"
   ]
  },
  {
   "cell_type": "code",
   "execution_count": 6,
   "id": "f2ee4f62",
   "metadata": {},
   "outputs": [
    {
     "data": {
      "text/plain": [
       "100"
      ]
     },
     "execution_count": 6,
     "metadata": {},
     "output_type": "execute_result"
    }
   ],
   "source": [
    "b=10*10\n",
    "b"
   ]
  },
  {
   "cell_type": "code",
   "execution_count": 7,
   "id": "65fc8fba",
   "metadata": {},
   "outputs": [
    {
     "data": {
      "text/plain": [
       "100.0"
      ]
     },
     "execution_count": 7,
     "metadata": {},
     "output_type": "execute_result"
    }
   ],
   "source": [
    "c=1000/10\n",
    "c"
   ]
  },
  {
   "cell_type": "code",
   "execution_count": 8,
   "id": "14376ef9",
   "metadata": {},
   "outputs": [],
   "source": [
    "d= 100.01\n",
    "e= 101.01\n"
   ]
  },
  {
   "cell_type": "code",
   "execution_count": 10,
   "id": "679e6b85",
   "metadata": {},
   "outputs": [
    {
     "data": {
      "text/plain": [
       "0.9900999900999901"
      ]
     },
     "execution_count": 10,
     "metadata": {},
     "output_type": "execute_result"
    }
   ],
   "source": [
    "f=d/e\n",
    "f"
   ]
  },
  {
   "cell_type": "code",
   "execution_count": 11,
   "id": "afcd5a55",
   "metadata": {},
   "outputs": [
    {
     "data": {
      "text/plain": [
       "'Germany'"
      ]
     },
     "execution_count": 11,
     "metadata": {},
     "output_type": "execute_result"
    }
   ],
   "source": [
    "\"Ger\"+\"many\""
   ]
  },
  {
   "cell_type": "code",
   "execution_count": 14,
   "id": "a4963fd9",
   "metadata": {},
   "outputs": [
    {
     "data": {
      "text/plain": [
       "'i live in Germany'"
      ]
     },
     "execution_count": 14,
     "metadata": {},
     "output_type": "execute_result"
    }
   ],
   "source": [
    "\"i\"+ \" live\"+\" in\"+\" Germany\""
   ]
  },
  {
   "cell_type": "code",
   "execution_count": null,
   "id": "7dadb850",
   "metadata": {},
   "outputs": [],
   "source": []
  }
 ],
 "metadata": {
  "kernelspec": {
   "display_name": "Python 3 (ipykernel)",
   "language": "python",
   "name": "python3"
  },
  "language_info": {
   "codemirror_mode": {
    "name": "ipython",
    "version": 3
   },
   "file_extension": ".py",
   "mimetype": "text/x-python",
   "name": "python",
   "nbconvert_exporter": "python",
   "pygments_lexer": "ipython3",
   "version": "3.9.7"
  }
 },
 "nbformat": 4,
 "nbformat_minor": 5
}
